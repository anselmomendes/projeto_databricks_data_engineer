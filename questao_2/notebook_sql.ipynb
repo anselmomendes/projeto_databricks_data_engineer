{
 "cells": [
  {
   "cell_type": "code",
   "execution_count": null,
   "metadata": {},
   "outputs": [],
   "source": [
    "import sqlite3\n",
    "import pandas as pd"
   ]
  },
  {
   "cell_type": "code",
   "execution_count": null,
   "metadata": {},
   "outputs": [],
   "source": [
    "# Leitura dos dados\n",
    "df = pd.read_csv('../data/invoices.csv')\n",
    "df['month'] = pd.to_datetime(df['month'])"
   ]
  },
  {
   "cell_type": "code",
   "execution_count": null,
   "metadata": {},
   "outputs": [],
   "source": [
    "df.head()"
   ]
  },
  {
   "cell_type": "code",
   "execution_count": null,
   "metadata": {},
   "outputs": [],
   "source": [
    "# Ingestão dos dados\n",
    "conn = sqlite3.connect('meta.db')\n",
    "df.to_sql('invoices', conn, if_exists='replace', index=False)\n",
    "conn.close()"
   ]
  },
  {
   "cell_type": "code",
   "execution_count": null,
   "metadata": {},
   "outputs": [],
   "source": [
    "#Teste do banco de dados\n",
    "conn = sqlite3.connect('meta.db')\n",
    "cursor = conn.cursor()\n",
    "\n",
    "cursor.execute(\"SELECT * FROM invoices\")\n",
    "\n",
    "data = cursor.fetchall()\n",
    "\n",
    "select = pd.DataFrame(data, columns=['customer', 'account', 'month', 'invoice'])\n",
    "\n",
    "conn.close()"
   ]
  },
  {
   "cell_type": "code",
   "execution_count": null,
   "metadata": {},
   "outputs": [],
   "source": [
    "select.head()"
   ]
  },
  {
   "cell_type": "code",
   "execution_count": null,
   "metadata": {},
   "outputs": [],
   "source": [
    "# Conectar ao banco de dados\n",
    "conn = sqlite3.connect('meta.db')\n",
    "cursor = conn.cursor()\n",
    "\n",
    "# Criar a query para calcular a média de faturamento nos últimos 3 e 6 meses retroativos a Jan/2020\n",
    "query = \"\"\"\n",
    "\n",
    "-- Filtragem dos dados para considerar apenas retroativos a Jan/2020\n",
    "WITH tabela_filtrada AS (\n",
    "    SELECT \n",
    "        account, \n",
    "        month, \n",
    "        invoice\n",
    "    FROM \n",
    "        invoices\n",
    "    WHERE \n",
    "        month < '2020-01-01'\n",
    "),\n",
    "\n",
    "-- Seleção das faturas dos últimos 3 meses\n",
    "invoices_last_3_months AS (\n",
    "    SELECT \n",
    "        account, \n",
    "        invoice\n",
    "    FROM \n",
    "        tabela_filtrada\n",
    "    WHERE \n",
    "        month >= DATE('2020-01-01', '-3 months')\n",
    "),\n",
    "\n",
    "-- Seleção das faturas dos últimos 6 meses\n",
    "invoices_last_6_months AS (\n",
    "    SELECT \n",
    "        account, \n",
    "        invoice\n",
    "    FROM \n",
    "        tabela_filtrada\n",
    "    WHERE \n",
    "        month >= DATE('2020-01-01', '-6 months')\n",
    "),\n",
    "\n",
    "-- Cálculo da média de faturas dos últimos 3 meses\n",
    "avg_invoices_last_3_months AS (\n",
    "SELECT\n",
    "    account,\n",
    "    CASE\n",
    "        WHEN COUNT(invoice) < 3 THEN NULL\n",
    "        ELSE AVG(invoice)\n",
    "    END AS avg_invoices_last_3_months\n",
    "FROM invoices_last_3_months\n",
    "GROUP BY account\n",
    "),\n",
    "\n",
    "-- Cálculo da média de faturas dos últimos 6 meses\n",
    "avg_invoices_last_6_months AS (\n",
    "SELECT\n",
    "    account,\n",
    "    CASE\n",
    "        WHEN COUNT(invoice) < 6 THEN NULL\n",
    "        ELSE AVG(invoice)\n",
    "    END AS avg_invoices_last_6_months\n",
    "FROM invoices_last_6_months\n",
    "GROUP BY account\n",
    ")\n",
    "\n",
    "-- Querie final e formatação dos resultados\n",
    "SELECT \n",
    "    a.account, \n",
    "    ROUND(ail3m.avg_invoices_last_3_months, 2) AS avg_invoices_last_3_months, \n",
    "    ROUND(ail6m.avg_invoices_last_6_months, 2) AS avg_invoices_last_6_months\n",
    "FROM \n",
    "    (SELECT DISTINCT account FROM tabela_filtrada) a\n",
    "LEFT JOIN \n",
    "    avg_invoices_last_3_months ail3m ON a.account = ail3m.account\n",
    "LEFT JOIN \n",
    "    avg_invoices_last_6_months ail6m ON a.account = ail6m.account;\n",
    "\"\"\"\n",
    "\n",
    "# Executar a consulta\n",
    "cursor.execute(query)\n",
    "\n",
    "# Obter os resultados\n",
    "result = cursor.fetchall()\n",
    "\n",
    "# Converter os resultados em um DataFrame\n",
    "df_avg_invoices = pd.DataFrame(result, columns=['account', 'avg_invoices_last_3_months', 'avg_invoices_last_6_months'])\n",
    "\n",
    "# Fechar a conexão\n",
    "conn.close()\n",
    "\n",
    "# Exibir o DataFrame\n",
    "print(df_avg_invoices)"
   ]
  }
 ],
 "metadata": {
  "kernelspec": {
   "display_name": "Python 3",
   "language": "python",
   "name": "python3"
  },
  "language_info": {
   "codemirror_mode": {
    "name": "ipython",
    "version": 3
   },
   "file_extension": ".py",
   "mimetype": "text/x-python",
   "name": "python",
   "nbconvert_exporter": "python",
   "pygments_lexer": "ipython3",
   "version": "3.9.9"
  }
 },
 "nbformat": 4,
 "nbformat_minor": 2
}
