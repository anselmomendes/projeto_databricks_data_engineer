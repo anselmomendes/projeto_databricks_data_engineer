{
 "cells": [
  {
   "cell_type": "code",
   "execution_count": null,
   "metadata": {},
   "outputs": [],
   "source": [
    "import pandas as pd"
   ]
  },
  {
   "cell_type": "code",
   "execution_count": null,
   "metadata": {},
   "outputs": [],
   "source": [
    "# Leitura dos dados\n",
    "df = pd.read_csv('../data/invoices.csv')\n",
    "df['month'] = pd.to_datetime(df['month'])"
   ]
  },
  {
   "cell_type": "code",
   "execution_count": null,
   "metadata": {},
   "outputs": [],
   "source": [
    "# Visão geral dos dados\n",
    "df.head()"
   ]
  },
  {
   "cell_type": "code",
   "execution_count": null,
   "metadata": {},
   "outputs": [],
   "source": [
    "data_referencia = pd.to_datetime('2020-01-01')\n",
    "print(f'Data Referência: {data_referencia}')"
   ]
  },
  {
   "cell_type": "code",
   "execution_count": null,
   "metadata": {},
   "outputs": [],
   "source": [
    "df_filtrado = df[df['month'] < data_referencia]"
   ]
  },
  {
   "cell_type": "code",
   "execution_count": null,
   "metadata": {},
   "outputs": [],
   "source": [
    "# Função para calcular a média de faturamento\n",
    "def calcula_media(df, account, meses):\n",
    "    end_date = data_referencia - pd.DateOffset(months=meses)\n",
    "    df_account = df[(df['account'] == account) & (df['month'] >= end_date)]\n",
    "    if len(df_account) < meses:\n",
    "        return None\n",
    "    return df_account['invoice'].mean()"
   ]
  },
  {
   "cell_type": "code",
   "execution_count": null,
   "metadata": {},
   "outputs": [],
   "source": [
    "customer_account = df[['customer', 'account']]\n",
    "customer_account"
   ]
  },
  {
   "cell_type": "code",
   "execution_count": null,
   "metadata": {},
   "outputs": [],
   "source": [
    "customer_account = df[['customer', 'account']]\n",
    "accounts = customer_account.account.unique()"
   ]
  },
  {
   "cell_type": "code",
   "execution_count": null,
   "metadata": {},
   "outputs": [],
   "source": [
    "resultado = pd.DataFrame(columns=['customer', 'account', 'avg_invoices_last_3_months', 'avg_invoices_last_6_months'])"
   ]
  },
  {
   "cell_type": "code",
   "execution_count": null,
   "metadata": {},
   "outputs": [],
   "source": [
    "for account in accounts:\n",
    "    avg_invoices_last_3_months = calcula_media(df_filtrado, account, 3)\n",
    "    avg_invoices_last_6_months = calcula_media(df_filtrado, account, 6)\n",
    "    customer = customer_account[customer_account['account'] == account].iloc[0]['customer']\n",
    "    data = pd.DataFrame({'customer': [customer],\n",
    "                         'account': [account], \n",
    "                         'avg_invoices_last_3_months': [avg_invoices_last_3_months], \n",
    "                         'avg_invoices_last_6_months': [avg_invoices_last_6_months]})\n",
    "    resultado = pd.concat([resultado, data])\n",
    "    "
   ]
  },
  {
   "cell_type": "code",
   "execution_count": null,
   "metadata": {},
   "outputs": [],
   "source": [
    "resultado"
   ]
  }
 ],
 "metadata": {
  "kernelspec": {
   "display_name": "Python 3",
   "language": "python",
   "name": "python3"
  },
  "language_info": {
   "codemirror_mode": {
    "name": "ipython",
    "version": 3
   },
   "file_extension": ".py",
   "mimetype": "text/x-python",
   "name": "python",
   "nbconvert_exporter": "python",
   "pygments_lexer": "ipython3",
   "version": "3.9.9"
  }
 },
 "nbformat": 4,
 "nbformat_minor": 2
}
