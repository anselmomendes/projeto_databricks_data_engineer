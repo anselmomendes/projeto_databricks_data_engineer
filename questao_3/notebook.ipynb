{
 "cells": [
  {
   "cell_type": "code",
   "execution_count": null,
   "metadata": {},
   "outputs": [],
   "source": [
    "import os\n",
    "import glob\n",
    "import sqlite3\n",
    "import pandas as pd\n",
    "\n",
    "pasta = '../data'\n",
    "tipo_arquivo = '*.json'  # Por exemplo, para arquivos .txt\n",
    "\n",
    "conn = sqlite3.connect('meta.db')\n",
    "\n",
    "caminhos_arquivos = glob.glob(os.path.join(pasta, tipo_arquivo))\n",
    "\n",
    "df = pd.DataFrame()\n",
    "\n",
    "for arquivo in caminhos_arquivos:\n",
    "    data = pd.read_json(arquivo)\n",
    "    #Ajustar o arquivo json para o banco de dados\n",
    "    data.drop('content', axis=1, inplace=True)\n",
    "    df = pd.concat([df, data], axis=0)\n",
    "\n",
    "df.to_sql('chatbot', conn, if_exists='replace', index=False)\n",
    "conn.close()"
   ]
  },
  {
   "cell_type": "code",
   "execution_count": null,
   "metadata": {},
   "outputs": [
    {
     "data": {
      "text/plain": [
       "dict_keys(['name'])"
      ]
     },
     "execution_count": 16,
     "metadata": {},
     "output_type": "execute_result"
    }
   ],
   "source": []
  }
 ],
 "metadata": {
  "kernelspec": {
   "display_name": "Python 3",
   "language": "python",
   "name": "python3"
  },
  "language_info": {
   "codemirror_mode": {
    "name": "ipython",
    "version": 3
   },
   "file_extension": ".py",
   "mimetype": "text/x-python",
   "name": "python",
   "nbconvert_exporter": "python",
   "pygments_lexer": "ipython3",
   "version": "3.9.9"
  }
 },
 "nbformat": 4,
 "nbformat_minor": 2
}
