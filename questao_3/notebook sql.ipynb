{
 "cells": [
  {
   "cell_type": "code",
   "execution_count": null,
   "metadata": {},
   "outputs": [],
   "source": [
    "import os\n",
    "import glob\n",
    "import sqlite3\n",
    "import pandas as pd\n",
    "\n",
    "pasta = '../data'\n",
    "tipo_arquivo = '*.json'\n",
    "\n",
    "#Leitura dos aquivos em uma lista\n",
    "caminhos_arquivos = glob.glob(os.path.join(pasta, tipo_arquivo))"
   ]
  },
  {
   "cell_type": "code",
   "execution_count": null,
   "metadata": {},
   "outputs": [],
   "source": [
    "#Leitura e carga dos arquivos json no banco de dados SQLite\n",
    "df = pd.DataFrame(columns=['customer', 'flow', 'session', 'timestamp', 'key', 'value'])\n",
    "\n",
    "conn = sqlite3.connect('meta.db')\n",
    "\n",
    "for arquivo in caminhos_arquivos:\n",
    "    data = pd.read_json(arquivo)\n",
    "    data['key'] = data.apply(lambda x: list(x['content'].keys())[0], axis=1)\n",
    "    data['value'] = data.apply(lambda x: x['content'][x['key']], axis=1)\n",
    "    data.drop(columns=['content'], inplace=True, errors='ignore')\n",
    "    df = pd.concat([df, data], axis=0, ignore_index=False)\n",
    "\n",
    "# Remove registros nulos e vazios\n",
    "df['value'] = df['value'].apply(lambda x: None if x.strip() == '' else x)\n",
    "df.dropna(subset=['value'], inplace=True)\n",
    "df.head()\n",
    "\n",
    "df.to_sql('chatbot', conn, if_exists='replace', index=False)\n",
    "conn.close()"
   ]
  },
  {
   "cell_type": "code",
   "execution_count": null,
   "metadata": {},
   "outputs": [],
   "source": [
    "#Teste do banco de dados\n",
    "conn = sqlite3.connect('meta.db')\n",
    "cursor = conn.cursor()\n",
    "\n",
    "cursor.execute(\"SELECT * FROM chatbot\")\n",
    "\n",
    "data = cursor.fetchall()\n",
    "\n",
    "select = pd.DataFrame(data, columns=['customer', 'flow', 'session', 'timestamp', 'key', 'value'])\n",
    "\n",
    "conn.close()\n",
    "\n",
    "select"
   ]
  },
  {
   "cell_type": "code",
   "execution_count": null,
   "metadata": {},
   "outputs": [],
   "source": [
    "# consulta dos dados aplicando as regras:\n",
    "# Último valor de cada chave por customer, flow, session e key\n",
    "# Data de inicio e fim das conversas por customer, flow e session\n",
    "\n",
    "def consulta_chatbot(customer, flow, session):\n",
    "    conn = sqlite3.connect('meta.db')\n",
    "    cursor = conn.cursor()\n",
    "    cursor.execute(f\"\"\"WITH principal as (\n",
    "               SELECT ROW_NUMBER() OVER (PARTITION BY customer, flow, session, key ORDER BY timestamp DESC) AS row_number,\n",
    "               customer, \n",
    "               flow, \n",
    "               session, \n",
    "               timestamp, \n",
    "               key, \n",
    "               value\n",
    "               FROM chatbot\n",
    "               WHERE 1=1\n",
    "               ORDER BY timestamp ASC),\n",
    "                   \n",
    "            periodo as (\n",
    "            SELECT customer, \n",
    "                flow,  \n",
    "                session, \n",
    "                min(timestamp) as first_answer_dt, \n",
    "                max(timestamp) as last_answer_dt\n",
    "                FROM chatbot \n",
    "                where 1=1\n",
    "                and flow = '{flow}'\n",
    "                group by customer, flow, session)\n",
    "\n",
    "            SELECT p.customer, \n",
    "                p.flow,  \n",
    "                p.session, \n",
    "                pe.first_answer_dt as first_answer_dt, \n",
    "                pe.last_answer_dt last_answer_dt,  \n",
    "                p.key,  \n",
    "                p.value  \n",
    "                FROM principal p\n",
    "                left join periodo pe on p.customer = pe.customer and p.flow = pe.flow and p.session = pe.session\n",
    "                where 1=1\n",
    "                and p.row_number = 1\n",
    "                and p.customer = '{customer}'\n",
    "                and p.flow = '{flow}'\n",
    "                and p.session = '{session}'\n",
    "                group by p.customer, p.flow, p.session, p.key\n",
    "                order by p.timestamp asc\"\"\")\n",
    "\n",
    "    data = cursor.fetchall()\n",
    "    select = pd.DataFrame(data, columns=['customer', 'flow', 'session', 'first_answer_dt', 'last_answer_dt', 'key', 'value'])\n",
    "    conn.close()\n",
    "    return select"
   ]
  },
  {
   "cell_type": "code",
   "execution_count": null,
   "metadata": {},
   "outputs": [],
   "source": [
    "# Teste da função para um unicio caso\n",
    "\n",
    "data = consulta_chatbot(customer='C1000', flow='F1000', session='S1000')\n",
    "result_1 = data[['customer', 'flow', 'session', 'first_answer_dt', 'last_answer_dt']].iloc[:1, :]\n",
    "data = data[['key', 'value']].set_index('key', drop=True)\n",
    "data = data.T.to_dict('records')\n",
    "result_2 = pd.DataFrame(data)\n",
    "result = pd.concat([result_1, result_2], axis=1)\n",
    "result"
   ]
  },
  {
   "cell_type": "code",
   "execution_count": null,
   "metadata": {},
   "outputs": [],
   "source": [
    "# Teste da função para os casos de flow iguais\n",
    "# É necessário escolher o flow como apresentado no roteiro do desafio\n",
    "\n",
    "customers = df['customer'].unique()\n",
    "flows = df['flow'].unique()\n",
    "sessions = df['session'].unique()\n",
    "\n",
    "#######################################\n",
    "# Seleciona um fluxo específico [0 ou 1]\n",
    "#######################################\n",
    "\n",
    "flow = flows[0]\n",
    "#flow = flows[1]\n",
    "relatorio = None\n",
    "\n",
    "for customer in customers:\n",
    "        for session in sessions:\n",
    "            data = consulta_chatbot(customer=customer, flow=flow, session=session)\n",
    "            if data.shape[0] > 0:\n",
    "                result_1 = data[['customer', 'flow', 'session', 'first_answer_dt', 'last_answer_dt']].iloc[:1, :]\n",
    "                data = data[['key', 'value']].set_index('key', drop=True)\n",
    "                data = data.T.to_dict('records')\n",
    "                result_2 = pd.DataFrame(data)\n",
    "                result = pd.concat([result_1, result_2], axis=1)\n",
    "                relatorio = pd.concat([relatorio, result], axis=0, ignore_index=True)"
   ]
  },
  {
   "cell_type": "code",
   "execution_count": null,
   "metadata": {},
   "outputs": [],
   "source": [
    "relatorio"
   ]
  }
 ],
 "metadata": {
  "kernelspec": {
   "display_name": "Python 3",
   "language": "python",
   "name": "python3"
  },
  "language_info": {
   "codemirror_mode": {
    "name": "ipython",
    "version": 3
   },
   "file_extension": ".py",
   "mimetype": "text/x-python",
   "name": "python",
   "nbconvert_exporter": "python",
   "pygments_lexer": "ipython3",
   "version": "3.9.9"
  }
 },
 "nbformat": 4,
 "nbformat_minor": 2
}
